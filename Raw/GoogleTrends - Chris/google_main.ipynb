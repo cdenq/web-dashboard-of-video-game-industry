{
 "cells": [
  {
   "cell_type": "markdown",
   "metadata": {},
   "source": [
    "# Dependencies"
   ]
  },
  {
   "cell_type": "code",
   "execution_count": 1,
   "metadata": {},
   "outputs": [],
   "source": [
    "import pandas as pd\n",
    "import pymongo\n",
    "from pprint import pprint"
   ]
  },
  {
   "cell_type": "markdown",
   "metadata": {},
   "source": [
    "# Import"
   ]
  },
  {
   "cell_type": "code",
   "execution_count": 2,
   "metadata": {},
   "outputs": [],
   "source": [
    "#timeline information\n",
    "search_apex = pd.read_csv('Resources/multiTimeline(Apex).csv')\n",
    "search_csgo = pd.read_csv('Resources/multiTimeline(CSGO).csv')\n",
    "search_dota = pd.read_csv('Resources/multiTimeline(DOTA).csv')\n",
    "# search_nw = pd.read_csv('Resources/multiTimeline(NewWorld).csv')\n",
    "search_rust = pd.read_csv('Resources/multiTimeline(Rust).csv')\n",
    "search_gta = pd.read_csv('Resources/multiTimeline(GTAV).csv')\n",
    "\n",
    "#geomap information\n",
    "geo_apex = pd.read_csv('Resources/geoMap(Apex).csv')\n",
    "geo_csgo = pd.read_csv('Resources/geoMap(CSGO).csv')\n",
    "geo_dota = pd.read_csv('Resources/geoMap(DOTA).csv')\n",
    "# geo_nw = pd.read_csv('Resources/geoMap(NewWorld).csv')\n",
    "geo_rust = pd.read_csv('Resources/geoMap(Rust).csv')\n",
    "geo_gta = pd.read_csv('Resources/geoMap(GTAV).csv')"
   ]
  },
  {
   "cell_type": "markdown",
   "metadata": {},
   "source": [
    "# Clean and Format"
   ]
  },
  {
   "cell_type": "code",
   "execution_count": 3,
   "metadata": {},
   "outputs": [],
   "source": [
    "search_ls = [search_apex, search_csgo, search_dota, search_gta, search_rust]\n",
    "merged_search = search_ls[0].merge(search_ls[1], on = 'Month', how = 'outer')\n",
    "for i in range(2, len(search_ls)):\n",
    "    merged_search = merged_search.merge(search_ls[i], on = 'Month', how = 'outer')\n",
    "merged_search.rename(columns = {merged_search.columns[1] : 'Apex',\n",
    "                                merged_search.columns[2] : 'CSGO',\n",
    "                                merged_search.columns[3] : 'Dota 2',\n",
    "                                merged_search.columns[4] : 'GTA V',\n",
    "                                merged_search.columns[5] : 'Rust'\n",
    "}, inplace = True)\n",
    "merged_search.replace('<1', 1, inplace = True)\n",
    "merged_search = merged_search.astype({'Apex' : 'int64', 'Dota 2': 'int64'})\n",
    "search_dict = merged_search.to_dict('records')"
   ]
  },
  {
   "cell_type": "code",
   "execution_count": 4,
   "metadata": {},
   "outputs": [],
   "source": [
    "geo_ls = [geo_apex, geo_csgo, geo_dota, geo_gta, geo_rust]\n",
    "merged_geo = geo_ls[0].merge(geo_ls[1], on = 'Region', how = 'outer')\n",
    "for i in range(2, len(geo_ls)):\n",
    "    merged_geo = merged_geo.merge(geo_ls[i], on = 'Region', how = 'outer')\n",
    "merged_geo.rename(columns = {merged_geo.columns[1] : 'Apex',\n",
    "                             merged_geo.columns[2] : 'CSGO',\n",
    "                             merged_geo.columns[3] : 'Dota 2',\n",
    "                             merged_geo.columns[4] : 'GTA V',\n",
    "                             merged_geo.columns[5] : 'Rust'\n",
    "}, inplace = True)\n",
    "merged_geo.sort_values('Region', inplace = True)\n",
    "merged_geo.reset_index(drop = True, inplace = True)\n",
    "geo_dict = merged_geo.to_dict('records')"
   ]
  },
  {
   "cell_type": "code",
   "execution_count": 5,
   "metadata": {},
   "outputs": [],
   "source": [
    "# search_dict\n",
    "# geo_dict"
   ]
  },
  {
   "cell_type": "markdown",
   "metadata": {},
   "source": [
    "# Export to MongoDB"
   ]
  },
  {
   "cell_type": "code",
   "execution_count": 6,
   "metadata": {},
   "outputs": [],
   "source": [
    "# connecting to mongodb\n",
    "conn = 'mongodb://localhost:27017'\n",
    "client = pymongo.MongoClient(conn)\n",
    "\n",
    "# declare the database\n",
    "db = client.googletrends_db\n",
    "\n",
    "# declare the collection\n",
    "g_line = db.multiline\n",
    "g_geo = db.geo"
   ]
  },
  {
   "cell_type": "code",
   "execution_count": 7,
   "metadata": {},
   "outputs": [
    {
     "name": "stdout",
     "output_type": "stream",
     "text": [
      "['Dumpster_DB', 'admin', 'config', 'fruits_db', 'local', 'store_inventory', 'trending_games_db']\n"
     ]
    }
   ],
   "source": [
    "# check databases\n",
    "print(client.list_database_names())"
   ]
  },
  {
   "cell_type": "code",
   "execution_count": 8,
   "metadata": {},
   "outputs": [
    {
     "data": {
      "text/plain": [
       "<pymongo.results.InsertManyResult at 0x1a8ef0b8f00>"
      ]
     },
     "execution_count": 8,
     "metadata": {},
     "output_type": "execute_result"
    }
   ],
   "source": [
    "# insert data\n",
    "g_line.insert_many(search_dict)\n",
    "g_geo.insert_many(geo_dict)"
   ]
  },
  {
   "cell_type": "code",
   "execution_count": 9,
   "metadata": {},
   "outputs": [
    {
     "name": "stdout",
     "output_type": "stream",
     "text": [
      "{'Apex': 0,\n",
      " 'CSGO': 58,\n",
      " 'Dota 2': 0,\n",
      " 'GTA V': 1,\n",
      " 'Month': '2004-01',\n",
      " 'Rust': 23,\n",
      " '_id': ObjectId('61e2ef742cdad25db0d36180')}\n",
      "{'Apex': 66,\n",
      " 'CSGO': 54,\n",
      " 'Dota 2': 40,\n",
      " 'GTA V': 74,\n",
      " 'Region': 'Alabama',\n",
      " 'Rust': 66,\n",
      " '_id': ObjectId('61e2ef742cdad25db0d36259')}\n"
     ]
    }
   ],
   "source": [
    "# check/read data\n",
    "read_result_line = g_line.find_one()\n",
    "pprint(read_result_line)\n",
    "\n",
    "read_result_geo = g_geo.find_one()\n",
    "pprint(read_result_geo)"
   ]
  }
 ],
 "metadata": {
  "interpreter": {
   "hash": "ea2b65024e24df10fa5992686c1c8510a4831519011fa6b2d6f1788e8385f578"
  },
  "kernelspec": {
   "display_name": "Python 3.8.12 64-bit ('PythonData': conda)",
   "language": "python",
   "name": "python3"
  },
  "language_info": {
   "codemirror_mode": {
    "name": "ipython",
    "version": 3
   },
   "file_extension": ".py",
   "mimetype": "text/x-python",
   "name": "python",
   "nbconvert_exporter": "python",
   "pygments_lexer": "ipython3",
   "version": "3.8.12"
  },
  "orig_nbformat": 4
 },
 "nbformat": 4,
 "nbformat_minor": 2
}
