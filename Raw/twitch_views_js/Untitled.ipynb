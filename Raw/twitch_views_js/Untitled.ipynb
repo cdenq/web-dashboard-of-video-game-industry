{
 "cells": [
  {
   "cell_type": "code",
   "execution_count": 4,
   "id": "b1ec1666",
   "metadata": {},
   "outputs": [],
   "source": [
    "import requests\n",
    "from bs4 import BeautifulSoup as bs"
   ]
  },
  {
   "cell_type": "code",
   "execution_count": 5,
   "id": "0c789dfd",
   "metadata": {},
   "outputs": [],
   "source": [
    "url = 'https://twitchtracker.com/games?page='"
   ]
  },
  {
   "cell_type": "code",
   "execution_count": 18,
   "id": "2cafebfb",
   "metadata": {},
   "outputs": [],
   "source": [
    "for page in range(2,5):\n",
    "  \n",
    "    req = requests.get(url + str(page))\n",
    "    soup = bs(req.text, 'html.parser')\n",
    "  \n",
    "    item = soup.find_all('div', {'class': 'ri-name'})  \n",
    "    \n",
    "    for i in range(2,5):\n",
    "        if page>1:\n",
    "            titles\n",
    "#             print(f\"page{(i)}\" + titles[i].text)\n",
    "        else:\n",
    "            print(f\"Page 1\")"
   ]
  },
  {
   "cell_type": "code",
   "execution_count": 19,
   "id": "6d0b2b80",
   "metadata": {},
   "outputs": [
    {
     "data": {
      "text/plain": [
       "[<a href=\"https://support.cloudflare.com/hc/en-us/articles/200171936-Error-520\" rel=\"noopener noreferrer\">Additional troubleshooting resources</a>,\n",
       " <a href=\"https://www.cloudflare.com/5xx-error-landing\" id=\"brand_link\" rel=\"noopener noreferrer\" target=\"_blank\">Cloudflare</a>]"
      ]
     },
     "execution_count": 19,
     "metadata": {},
     "output_type": "execute_result"
    }
   ],
   "source": [
    "titles"
   ]
  },
  {
   "cell_type": "code",
   "execution_count": null,
   "id": "bc7c718b",
   "metadata": {},
   "outputs": [],
   "source": []
  }
 ],
 "metadata": {
  "kernelspec": {
   "display_name": "Python [conda env:PythonData] *",
   "language": "python",
   "name": "conda-env-PythonData-py"
  },
  "language_info": {
   "codemirror_mode": {
    "name": "ipython",
    "version": 3
   },
   "file_extension": ".py",
   "mimetype": "text/x-python",
   "name": "python",
   "nbconvert_exporter": "python",
   "pygments_lexer": "ipython3",
   "version": "3.8.11"
  }
 },
 "nbformat": 4,
 "nbformat_minor": 5
}
