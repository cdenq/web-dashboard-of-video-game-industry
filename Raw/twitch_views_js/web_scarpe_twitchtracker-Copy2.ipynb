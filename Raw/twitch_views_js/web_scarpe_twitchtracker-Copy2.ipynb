{
 "cells": [
  {
   "cell_type": "code",
   "execution_count": 1,
   "id": "daea2105",
   "metadata": {},
   "outputs": [],
   "source": [
    "#Import Dependencies\n",
    "\n",
    "from bs4 import BeautifulSoup\n",
    "import requests\n",
    "import pymongo\n",
    "from splinter import Browser\n",
    "from webdriver_manager.chrome import ChromeDriverManager\n",
    "import pandas as pd\n",
    "import numpy as np\n",
    "\n",
    "from time import sleep\n",
    "from random import randint\n",
    "\n",
    "import json"
   ]
  },
  {
   "cell_type": "code",
   "execution_count": 2,
   "id": "cfaa9e85",
   "metadata": {},
   "outputs": [
    {
     "name": "stderr",
     "output_type": "stream",
     "text": [
      "\n",
      "\n",
      "====== WebDriver manager ======\n",
      "Current google-chrome version is 97.0.4692\n",
      "Get LATEST chromedriver version for 97.0.4692 google-chrome\n",
      "Driver [/Users/joescuteri/.wdm/drivers/chromedriver/mac64/97.0.4692.71/chromedriver] found in cache\n"
     ]
    }
   ],
   "source": [
    "# Sets a path to Google Chrome\n",
    "executable_path = {'executable_path': ChromeDriverManager().install()}\n",
    "browser = Browser('chrome', **executable_path, headless=False)"
   ]
  },
  {
   "cell_type": "code",
   "execution_count": 3,
   "id": "879dc5fc",
   "metadata": {},
   "outputs": [
    {
     "name": "stdout",
     "output_type": "stream",
     "text": [
      "Page Done!\n",
      "Page Done!\n",
      "Page Done!\n",
      "Page Done!\n",
      "Page Done!\n"
     ]
    }
   ],
   "source": [
    "URL = ['https://twitchtracker.com/games', 'https://twitchtracker.com/games?page=2', 'https://twitchtracker.com/games?page=3', 'https://twitchtracker.com/games?page=4', 'https://twitchtracker.com/games?page=5']\n",
    "tags = []\n",
    "games = []\n",
    "cleanedviews = []\n",
    "views = []\n",
    "\n",
    "for url in range(0,5):      \n",
    "    browser.visit(URL[url])\n",
    "    html = browser.html\n",
    "    soup = BeautifulSoup(html, 'html.parser')\n",
    "    \n",
    "    href_tags = soup.find_all(href=True)\n",
    "    raw_games = href_tags[40:60]\n",
    "    \n",
    "    for x in raw_games:\n",
    "        tags.append(str(x))\n",
    "    \n",
    "    for element in tags:\n",
    "        if element not in games:\n",
    "            front = element.split(\">\")[1]\n",
    "            back = front.split(\"<\")[0]\n",
    "            games.append(back)\n",
    "        \n",
    "    viewhtml = soup.find_all('div', class_=\"ri-value\")\n",
    "    \n",
    "    for x in viewhtml:\n",
    "        cleanedviews.append(str(x))\n",
    "    \n",
    "\n",
    "    for element in cleanedviews:\n",
    "        if element not in views:\n",
    "            front = element.split(\">\")[2]\n",
    "            back = front.split(\"<\")[0]\n",
    "            views.append(back)\n",
    "            \n",
    "    print(f'Page Done!')\n",
    "    \n",
    "    sleep(randint(5,10))"
   ]
  },
  {
   "cell_type": "code",
   "execution_count": 4,
   "id": "99238472",
   "metadata": {},
   "outputs": [
    {
     "data": {
      "text/html": [
       "<div>\n",
       "<style scoped>\n",
       "    .dataframe tbody tr th:only-of-type {\n",
       "        vertical-align: middle;\n",
       "    }\n",
       "\n",
       "    .dataframe tbody tr th {\n",
       "        vertical-align: top;\n",
       "    }\n",
       "\n",
       "    .dataframe thead th {\n",
       "        text-align: right;\n",
       "    }\n",
       "</style>\n",
       "<table border=\"1\" class=\"dataframe\">\n",
       "  <thead>\n",
       "    <tr style=\"text-align: right;\">\n",
       "      <th></th>\n",
       "      <th>GAME</th>\n",
       "      <th>VIEWS</th>\n",
       "    </tr>\n",
       "  </thead>\n",
       "  <tbody>\n",
       "    <tr>\n",
       "      <th>0</th>\n",
       "      <td>Just Chatting</td>\n",
       "      <td>391K</td>\n",
       "    </tr>\n",
       "    <tr>\n",
       "      <th>1</th>\n",
       "      <td>League of Legends</td>\n",
       "      <td>281K</td>\n",
       "    </tr>\n",
       "    <tr>\n",
       "      <th>2</th>\n",
       "      <td>Grand Theft Auto V</td>\n",
       "      <td>213K</td>\n",
       "    </tr>\n",
       "    <tr>\n",
       "      <th>3</th>\n",
       "      <td>VALORANT</td>\n",
       "      <td>119K</td>\n",
       "    </tr>\n",
       "    <tr>\n",
       "      <th>4</th>\n",
       "      <td>Fortnite</td>\n",
       "      <td>106K</td>\n",
       "    </tr>\n",
       "    <tr>\n",
       "      <th>...</th>\n",
       "      <td>...</td>\n",
       "      <td>...</td>\n",
       "    </tr>\n",
       "    <tr>\n",
       "      <th>295</th>\n",
       "      <td>Farming Simulator 22</td>\n",
       "      <td>3.0K</td>\n",
       "    </tr>\n",
       "    <tr>\n",
       "      <th>296</th>\n",
       "      <td>MapleStory</td>\n",
       "      <td>3.0K</td>\n",
       "    </tr>\n",
       "    <tr>\n",
       "      <th>297</th>\n",
       "      <td>Age of Empires IV</td>\n",
       "      <td>2.9K</td>\n",
       "    </tr>\n",
       "    <tr>\n",
       "      <th>298</th>\n",
       "      <td>Tibia</td>\n",
       "      <td>2.9K</td>\n",
       "    </tr>\n",
       "    <tr>\n",
       "      <th>299</th>\n",
       "      <td>\\n</td>\n",
       "      <td>2.8K</td>\n",
       "    </tr>\n",
       "  </tbody>\n",
       "</table>\n",
       "<p>300 rows × 2 columns</p>\n",
       "</div>"
      ],
      "text/plain": [
       "                     GAME VIEWS\n",
       "0           Just Chatting  391K\n",
       "1       League of Legends  281K\n",
       "2      Grand Theft Auto V  213K\n",
       "3                VALORANT  119K\n",
       "4                Fortnite  106K\n",
       "..                    ...   ...\n",
       "295  Farming Simulator 22  3.0K\n",
       "296            MapleStory  3.0K\n",
       "297     Age of Empires IV  2.9K\n",
       "298                 Tibia  2.9K\n",
       "299                    \\n  2.8K\n",
       "\n",
       "[300 rows x 2 columns]"
      ]
     },
     "execution_count": 4,
     "metadata": {},
     "output_type": "execute_result"
    }
   ],
   "source": [
    "# Upload to DataFrame \n",
    "df = pd.DataFrame(games, columns = ['GAME'])\n",
    "df['VIEWS'] = views\n",
    "df"
   ]
  },
  {
   "cell_type": "code",
   "execution_count": 5,
   "id": "9c9b625b",
   "metadata": {},
   "outputs": [],
   "source": [
    "# Change VIEWS column to integers\n",
    "\n",
    "df.VIEWS = (df.VIEWS.replace(r'[KM]+$', '', regex=True).astype(float) * df.VIEWS.str.extract(r'[\\d\\.]+([KM]+)', expand=False)\n",
    "             .fillna(1)\n",
    "             .replace(['K','M'], [10**3, 10**6]).astype(int))"
   ]
  },
  {
   "cell_type": "code",
   "execution_count": 6,
   "id": "ade2ced5",
   "metadata": {},
   "outputs": [],
   "source": [
    "avg_views = df['VIEWS'].mean()\n",
    "median_views = df['VIEWS'].median()"
   ]
  },
  {
   "cell_type": "code",
   "execution_count": 7,
   "id": "3c9695b0",
   "metadata": {},
   "outputs": [
    {
     "data": {
      "text/html": [
       "<div>\n",
       "<style scoped>\n",
       "    .dataframe tbody tr th:only-of-type {\n",
       "        vertical-align: middle;\n",
       "    }\n",
       "\n",
       "    .dataframe tbody tr th {\n",
       "        vertical-align: top;\n",
       "    }\n",
       "\n",
       "    .dataframe thead th {\n",
       "        text-align: right;\n",
       "    }\n",
       "</style>\n",
       "<table border=\"1\" class=\"dataframe\">\n",
       "  <thead>\n",
       "    <tr style=\"text-align: right;\">\n",
       "      <th></th>\n",
       "      <th>GAME</th>\n",
       "      <th>VIEWS</th>\n",
       "    </tr>\n",
       "  </thead>\n",
       "  <tbody>\n",
       "    <tr>\n",
       "      <th>0</th>\n",
       "      <td>Just Chatting</td>\n",
       "      <td>391000.0</td>\n",
       "    </tr>\n",
       "    <tr>\n",
       "      <th>1</th>\n",
       "      <td>League of Legends</td>\n",
       "      <td>281000.0</td>\n",
       "    </tr>\n",
       "    <tr>\n",
       "      <th>2</th>\n",
       "      <td>Grand Theft Auto V</td>\n",
       "      <td>213000.0</td>\n",
       "    </tr>\n",
       "    <tr>\n",
       "      <th>3</th>\n",
       "      <td>VALORANT</td>\n",
       "      <td>119000.0</td>\n",
       "    </tr>\n",
       "    <tr>\n",
       "      <th>4</th>\n",
       "      <td>Fortnite</td>\n",
       "      <td>106000.0</td>\n",
       "    </tr>\n",
       "    <tr>\n",
       "      <th>...</th>\n",
       "      <td>...</td>\n",
       "      <td>...</td>\n",
       "    </tr>\n",
       "    <tr>\n",
       "      <th>295</th>\n",
       "      <td>Farming Simulator 22</td>\n",
       "      <td>3000.0</td>\n",
       "    </tr>\n",
       "    <tr>\n",
       "      <th>296</th>\n",
       "      <td>MapleStory</td>\n",
       "      <td>3000.0</td>\n",
       "    </tr>\n",
       "    <tr>\n",
       "      <th>297</th>\n",
       "      <td>Age of Empires IV</td>\n",
       "      <td>2900.0</td>\n",
       "    </tr>\n",
       "    <tr>\n",
       "      <th>298</th>\n",
       "      <td>Tibia</td>\n",
       "      <td>2900.0</td>\n",
       "    </tr>\n",
       "    <tr>\n",
       "      <th>299</th>\n",
       "      <td>\\n</td>\n",
       "      <td>2800.0</td>\n",
       "    </tr>\n",
       "  </tbody>\n",
       "</table>\n",
       "<p>300 rows × 2 columns</p>\n",
       "</div>"
      ],
      "text/plain": [
       "                     GAME     VIEWS\n",
       "0           Just Chatting  391000.0\n",
       "1       League of Legends  281000.0\n",
       "2      Grand Theft Auto V  213000.0\n",
       "3                VALORANT  119000.0\n",
       "4                Fortnite  106000.0\n",
       "..                    ...       ...\n",
       "295  Farming Simulator 22    3000.0\n",
       "296            MapleStory    3000.0\n",
       "297     Age of Empires IV    2900.0\n",
       "298                 Tibia    2900.0\n",
       "299                    \\n    2800.0\n",
       "\n",
       "[300 rows x 2 columns]"
      ]
     },
     "execution_count": 7,
     "metadata": {},
     "output_type": "execute_result"
    }
   ],
   "source": [
    "df"
   ]
  },
  {
   "cell_type": "code",
   "execution_count": 8,
   "id": "60ece4e1",
   "metadata": {},
   "outputs": [],
   "source": [
    "df.drop(df.tail(1).index,inplace=True)"
   ]
  },
  {
   "cell_type": "code",
   "execution_count": 9,
   "id": "bc6dce66",
   "metadata": {
    "scrolled": true
   },
   "outputs": [
    {
     "data": {
      "text/html": [
       "<div>\n",
       "<style scoped>\n",
       "    .dataframe tbody tr th:only-of-type {\n",
       "        vertical-align: middle;\n",
       "    }\n",
       "\n",
       "    .dataframe tbody tr th {\n",
       "        vertical-align: top;\n",
       "    }\n",
       "\n",
       "    .dataframe thead th {\n",
       "        text-align: right;\n",
       "    }\n",
       "</style>\n",
       "<table border=\"1\" class=\"dataframe\">\n",
       "  <thead>\n",
       "    <tr style=\"text-align: right;\">\n",
       "      <th></th>\n",
       "      <th>GAME</th>\n",
       "      <th>VIEWS</th>\n",
       "    </tr>\n",
       "  </thead>\n",
       "  <tbody>\n",
       "    <tr>\n",
       "      <th>0</th>\n",
       "      <td>Just Chatting</td>\n",
       "      <td>391000.0</td>\n",
       "    </tr>\n",
       "    <tr>\n",
       "      <th>1</th>\n",
       "      <td>League of Legends</td>\n",
       "      <td>281000.0</td>\n",
       "    </tr>\n",
       "    <tr>\n",
       "      <th>2</th>\n",
       "      <td>Grand Theft Auto V</td>\n",
       "      <td>213000.0</td>\n",
       "    </tr>\n",
       "    <tr>\n",
       "      <th>3</th>\n",
       "      <td>VALORANT</td>\n",
       "      <td>119000.0</td>\n",
       "    </tr>\n",
       "    <tr>\n",
       "      <th>4</th>\n",
       "      <td>Fortnite</td>\n",
       "      <td>106000.0</td>\n",
       "    </tr>\n",
       "    <tr>\n",
       "      <th>...</th>\n",
       "      <td>...</td>\n",
       "      <td>...</td>\n",
       "    </tr>\n",
       "    <tr>\n",
       "      <th>294</th>\n",
       "      <td>Stardew Valley</td>\n",
       "      <td>3000.0</td>\n",
       "    </tr>\n",
       "    <tr>\n",
       "      <th>295</th>\n",
       "      <td>Farming Simulator 22</td>\n",
       "      <td>3000.0</td>\n",
       "    </tr>\n",
       "    <tr>\n",
       "      <th>296</th>\n",
       "      <td>MapleStory</td>\n",
       "      <td>3000.0</td>\n",
       "    </tr>\n",
       "    <tr>\n",
       "      <th>297</th>\n",
       "      <td>Age of Empires IV</td>\n",
       "      <td>2900.0</td>\n",
       "    </tr>\n",
       "    <tr>\n",
       "      <th>298</th>\n",
       "      <td>Tibia</td>\n",
       "      <td>2900.0</td>\n",
       "    </tr>\n",
       "  </tbody>\n",
       "</table>\n",
       "<p>299 rows × 2 columns</p>\n",
       "</div>"
      ],
      "text/plain": [
       "                     GAME     VIEWS\n",
       "0           Just Chatting  391000.0\n",
       "1       League of Legends  281000.0\n",
       "2      Grand Theft Auto V  213000.0\n",
       "3                VALORANT  119000.0\n",
       "4                Fortnite  106000.0\n",
       "..                    ...       ...\n",
       "294        Stardew Valley    3000.0\n",
       "295  Farming Simulator 22    3000.0\n",
       "296            MapleStory    3000.0\n",
       "297     Age of Empires IV    2900.0\n",
       "298                 Tibia    2900.0\n",
       "\n",
       "[299 rows x 2 columns]"
      ]
     },
     "execution_count": 9,
     "metadata": {},
     "output_type": "execute_result"
    }
   ],
   "source": [
    "df"
   ]
  },
  {
   "cell_type": "code",
   "execution_count": null,
   "id": "eb9f36f5",
   "metadata": {},
   "outputs": [],
   "source": []
  },
  {
   "cell_type": "code",
   "execution_count": null,
   "id": "9ea0e49b",
   "metadata": {},
   "outputs": [],
   "source": []
  },
  {
   "cell_type": "code",
   "execution_count": null,
   "id": "cd76a33c",
   "metadata": {},
   "outputs": [],
   "source": []
  },
  {
   "cell_type": "code",
   "execution_count": null,
   "id": "a2baad5b",
   "metadata": {},
   "outputs": [],
   "source": []
  },
  {
   "cell_type": "code",
   "execution_count": 51,
   "id": "2ed7d8bc",
   "metadata": {},
   "outputs": [],
   "source": [
    "games_list = df['GAME'].tolist()\n",
    "views_list = df['VIEWS'].tolist()"
   ]
  },
  {
   "cell_type": "code",
   "execution_count": 52,
   "id": "0531e985",
   "metadata": {},
   "outputs": [],
   "source": [
    "game_json_list = json.dumps(games_list)\n",
    "views_json_list = json.dumps(views_list)"
   ]
  },
  {
   "cell_type": "code",
   "execution_count": 69,
   "id": "20e233df",
   "metadata": {},
   "outputs": [
    {
     "data": {
      "text/plain": [
       "['Just Chatting', 'League of Legends', 'Grand Theft Auto V', 'VALORANT', 'Fortnite', 'Apex Legends', 'Rust', 'Minecraft', 'Escape from Tarkov', 'Dota 2', 'Call of Duty: Warzone', 'Counter-Strike: Global Offensive', 'FIFA 22', 'God of War', 'Slots', 'Teamfight Tactics', 'Music', 'Monster Hunter Rise', 'Hearthstone', 'Dead by Daylight', 'Just Chatting', 'League of Legends', 'Grand Theft Auto V', 'VALORANT', 'Fortnite', 'Apex Legends', 'Rust', 'Minecraft', 'Escape from Tarkov', 'Dota 2', 'Call of Duty: Warzone', 'Counter-Strike: Global Offensive', 'FIFA 22', 'God of War', 'Slots', 'Teamfight Tactics', 'Music', 'Monster Hunter Rise', 'Hearthstone', 'Dead by Daylight', 'Special Events', 'PUBG: BATTLEGROUNDS', 'Yu-Gi-Oh! Master Duel', 'Rocket League', 'Sports', 'Genshin Impact', 'LOST ARK', 'ASMR', \"Tom Clancy's Rainbow Six Extraction\", 'Chess', 'Art', 'Overwatch', 'Old School RuneScape', 'Clash Royale', 'Talk Shows &amp; Podcasts', 'Final Fantasy XIV Online', 'Virtual Casino', 'Red Dead Redemption 2', 'Project Zomboid', '\\n', 'Just Chatting', 'League of Legends', 'Grand Theft Auto V', 'VALORANT', 'Fortnite', 'Apex Legends', 'Rust', 'Minecraft', 'Escape from Tarkov', 'Dota 2', 'Call of Duty: Warzone', 'Counter-Strike: Global Offensive', 'FIFA 22', 'God of War', 'Slots', 'Teamfight Tactics', 'Music', 'Monster Hunter Rise', 'Hearthstone', 'Dead by Daylight', 'Special Events', 'PUBG: BATTLEGROUNDS', 'Yu-Gi-Oh! Master Duel', 'Rocket League', 'Sports', 'Genshin Impact', 'LOST ARK', 'ASMR', \"Tom Clancy's Rainbow Six Extraction\", 'Chess', 'Art', 'Overwatch', 'Old School RuneScape', 'Clash Royale', 'Talk Shows &amp; Podcasts', 'Final Fantasy XIV Online', 'Virtual Casino', 'Red Dead Redemption 2', 'Project Zomboid', '\\n', 'Among Us', \"Tom Clancy's Rainbow Six Siege\", 'Destiny 2', 'Crypto', 'Black Desert', 'Pokémon Brilliant Diamond/Shining Pearl', 'Super People', 'World of Tanks', 'Poker', 'Phasmophobia', 'Dark Souls III', 'NBA 2K22', 'Retro', 'Garena Free Fire', 'Dying Light', 'SMITE', 'Total War: Warhammer III', 'Call of Duty: Vanguard', 'Madden NFL 22', '\\n', 'Just Chatting', 'League of Legends', 'Grand Theft Auto V', 'VALORANT', 'Fortnite', 'Apex Legends', 'Rust', 'Minecraft', 'Escape from Tarkov', 'Dota 2', 'Call of Duty: Warzone', 'Counter-Strike: Global Offensive', 'FIFA 22', 'God of War', 'Slots', 'Teamfight Tactics', 'Music', 'Monster Hunter Rise', 'Hearthstone', 'Dead by Daylight', 'Special Events', 'PUBG: BATTLEGROUNDS', 'Yu-Gi-Oh! Master Duel', 'Rocket League', 'Sports', 'Genshin Impact', 'LOST ARK', 'ASMR', \"Tom Clancy's Rainbow Six Extraction\", 'Chess', 'Art', 'Overwatch', 'Old School RuneScape', 'Clash Royale', 'Talk Shows &amp; Podcasts', 'Final Fantasy XIV Online', 'Virtual Casino', 'Red Dead Redemption 2', 'Project Zomboid', '\\n', 'Among Us', \"Tom Clancy's Rainbow Six Siege\", 'Destiny 2', 'Crypto', 'Black Desert', 'Pokémon Brilliant Diamond/Shining Pearl', 'Super People', 'World of Tanks', 'Poker', 'Phasmophobia', 'Dark Souls III', 'NBA 2K22', 'Retro', 'Garena Free Fire', 'Dying Light', 'SMITE', 'Total War: Warhammer III', 'Call of Duty: Vanguard', 'Madden NFL 22', '\\n', 'New World', 'VRChat', 'Dark Souls', 'Pools, Hot Tubs, and Beaches', 'Call Of Duty: Modern Warfare', 'Magic: The Gathering', 'Sea of Thieves', 'The Witcher 3: Wild Hunt', 'Fall Guys: Ultimate Knockout', \"I'm Only Sleeping\", 'Animal Crossing: New Horizons', 'Games + Demos', 'Super Mario 64', 'Internet Cafe Simulator 2', 'F1 2021', 'Dark Souls II', 'Tetris: The Grand Master', 'Super Mario 3D Land', 'StarCraft II', '\\n', 'Just Chatting', 'League of Legends', 'Grand Theft Auto V', 'VALORANT', 'Fortnite', 'Apex Legends', 'Rust', 'Minecraft', 'Escape from Tarkov', 'Dota 2', 'Call of Duty: Warzone', 'Counter-Strike: Global Offensive', 'FIFA 22', 'God of War', 'Slots', 'Teamfight Tactics', 'Music', 'Monster Hunter Rise', 'Hearthstone', 'Dead by Daylight', 'Special Events', 'PUBG: BATTLEGROUNDS', 'Yu-Gi-Oh! Master Duel', 'Rocket League', 'Sports', 'Genshin Impact', 'LOST ARK', 'ASMR', \"Tom Clancy's Rainbow Six Extraction\", 'Chess', 'Art', 'Overwatch', 'Old School RuneScape', 'Clash Royale', 'Talk Shows &amp; Podcasts', 'Final Fantasy XIV Online', 'Virtual Casino', 'Red Dead Redemption 2', 'Project Zomboid', '\\n', 'Among Us', \"Tom Clancy's Rainbow Six Siege\", 'Destiny 2', 'Crypto', 'Black Desert', 'Pokémon Brilliant Diamond/Shining Pearl', 'Super People', 'World of Tanks', 'Poker', 'Phasmophobia', 'Dark Souls III', 'NBA 2K22', 'Retro', 'Garena Free Fire', 'Dying Light', 'SMITE', 'Total War: Warhammer III', 'Call of Duty: Vanguard', 'Madden NFL 22', '\\n', 'New World', 'VRChat', 'Dark Souls', 'Pools, Hot Tubs, and Beaches', 'Call Of Duty: Modern Warfare', 'Magic: The Gathering', 'Sea of Thieves', 'The Witcher 3: Wild Hunt', 'Fall Guys: Ultimate Knockout', \"I'm Only Sleeping\", 'Animal Crossing: New Horizons', 'Games + Demos', 'Super Mario 64', 'Internet Cafe Simulator 2', 'F1 2021', 'Dark Souls II', 'Tetris: The Grand Master', 'Super Mario 3D Land', 'StarCraft II', '\\n', 'World of Warships', 'UNDECEMBER', 'The Binding of Isaac: Repentance', 'Mental Hospital: Child of Evil', 'Apsulov: End of Gods', 'Sekiro: Shadows Die Twice', 'Goose Goose Duck', 'Travel &amp; Outdoors', 'Jump King', 'Heroes of Might and Magic III: The Restoration of Erathia', 'Ready or Not', 'Ark: Survival Evolved', 'Hunt: Showdown', 'Street Fighter V', \"Five Nights at Freddy's: Security Breach\", 'Food &amp; Drink', 'Animals, Aquariums, and Zoos', 'Farming Simulator 22', 'Mario Kart 8 Deluxe']"
      ]
     },
     "execution_count": 69,
     "metadata": {},
     "output_type": "execute_result"
    }
   ],
   "source": [
    "games_list"
   ]
  },
  {
   "cell_type": "code",
   "execution_count": null,
   "id": "a54589b8",
   "metadata": {},
   "outputs": [],
   "source": []
  },
  {
   "cell_type": "code",
   "execution_count": 66,
   "id": "b00e69cf",
   "metadata": {},
   "outputs": [],
   "source": [
    "game_array = df[[\"GAME\"]].to_numpy()\n",
    "views_array= df[[\"VIEWS\"]].to_numpy()"
   ]
  },
  {
   "cell_type": "code",
   "execution_count": 67,
   "id": "eadf2ca9",
   "metadata": {},
   "outputs": [],
   "source": []
  },
  {
   "cell_type": "code",
   "execution_count": null,
   "id": "1eddd8f6",
   "metadata": {},
   "outputs": [],
   "source": []
  },
  {
   "cell_type": "code",
   "execution_count": null,
   "id": "dace90ff",
   "metadata": {},
   "outputs": [],
   "source": []
  },
  {
   "cell_type": "code",
   "execution_count": 33,
   "id": "1340eb83",
   "metadata": {},
   "outputs": [],
   "source": [
    "gamesjson = df.to_json()\n",
    "json_object = json.loads(gamesjson)\n",
    "json_formatted_str = json.dumps(json_object, indent=2)\n",
    "# print(json_formatted_str)"
   ]
  },
  {
   "cell_type": "code",
   "execution_count": 32,
   "id": "f3b4575f",
   "metadata": {},
   "outputs": [],
   "source": [
    "aDict = json.loads(json_formatted_str)\n",
    "# print(aDict)"
   ]
  },
  {
   "cell_type": "code",
   "execution_count": 30,
   "id": "5279dfcf",
   "metadata": {},
   "outputs": [],
   "source": [
    "# print(aDict['GAME'])"
   ]
  },
  {
   "cell_type": "code",
   "execution_count": 31,
   "id": "c90c7bb2",
   "metadata": {},
   "outputs": [],
   "source": [
    "# print(aDict['VIEWS'])"
   ]
  },
  {
   "cell_type": "code",
   "execution_count": null,
   "id": "99f120e9",
   "metadata": {},
   "outputs": [],
   "source": []
  },
  {
   "cell_type": "code",
   "execution_count": null,
   "id": "40cdd6cd",
   "metadata": {},
   "outputs": [],
   "source": []
  },
  {
   "cell_type": "code",
   "execution_count": null,
   "id": "09f90760",
   "metadata": {},
   "outputs": [],
   "source": []
  },
  {
   "cell_type": "code",
   "execution_count": null,
   "id": "b2f29600",
   "metadata": {},
   "outputs": [],
   "source": []
  },
  {
   "cell_type": "code",
   "execution_count": null,
   "id": "33116150",
   "metadata": {},
   "outputs": [],
   "source": []
  },
  {
   "cell_type": "code",
   "execution_count": null,
   "id": "61da6ef3",
   "metadata": {},
   "outputs": [],
   "source": []
  },
  {
   "cell_type": "code",
   "execution_count": null,
   "id": "cf1ae8e3",
   "metadata": {},
   "outputs": [],
   "source": []
  },
  {
   "cell_type": "code",
   "execution_count": null,
   "id": "ce53d996",
   "metadata": {},
   "outputs": [],
   "source": []
  },
  {
   "cell_type": "code",
   "execution_count": 10,
   "id": "1c057f02",
   "metadata": {},
   "outputs": [],
   "source": [
    "# Convert DataFrame into Dictionary\n",
    "twitch = pd.Series(df.VIEWS.values,index=df.GAME).to_dict()"
   ]
  },
  {
   "cell_type": "code",
   "execution_count": 11,
   "id": "206b3bc0",
   "metadata": {},
   "outputs": [],
   "source": [
    "# twitch"
   ]
  },
  {
   "cell_type": "markdown",
   "id": "3d547781",
   "metadata": {},
   "source": [
    "# Migrating it to MongoDB"
   ]
  },
  {
   "cell_type": "code",
   "execution_count": 13,
   "id": "10a9cc6c",
   "metadata": {},
   "outputs": [],
   "source": [
    "# connecting to mongodb\n",
    "conn = 'mongodb://localhost:27017'\n",
    "client = pymongo.MongoClient(conn)\n",
    "\n",
    "# declare the database\n",
    "db = client.twitchviews_db\n",
    "collection = db.items"
   ]
  },
  {
   "cell_type": "code",
   "execution_count": 14,
   "id": "32775c90",
   "metadata": {},
   "outputs": [
    {
     "data": {
      "text/plain": [
       "<pymongo.results.InsertOneResult at 0x7fc8144e47c0>"
      ]
     },
     "execution_count": 14,
     "metadata": {},
     "output_type": "execute_result"
    }
   ],
   "source": [
    "# Push into MongoDB\n",
    "collection.insert_one(twitch)"
   ]
  },
  {
   "cell_type": "code",
   "execution_count": null,
   "id": "0b4ac915",
   "metadata": {},
   "outputs": [],
   "source": []
  },
  {
   "cell_type": "code",
   "execution_count": null,
   "id": "25e72250",
   "metadata": {},
   "outputs": [],
   "source": []
  }
 ],
 "metadata": {
  "interpreter": {
   "hash": "a5387b9da968551e43e0ccab31c37bebadc093c630309dcd510e17231b5b064a"
  },
  "kernelspec": {
   "display_name": "Python [conda env:PythonData] *",
   "language": "python",
   "name": "conda-env-PythonData-py"
  },
  "language_info": {
   "codemirror_mode": {
    "name": "ipython",
    "version": 3
   },
   "file_extension": ".py",
   "mimetype": "text/x-python",
   "name": "python",
   "nbconvert_exporter": "python",
   "pygments_lexer": "ipython3",
   "version": "3.8.11"
  }
 },
 "nbformat": 4,
 "nbformat_minor": 5
}
