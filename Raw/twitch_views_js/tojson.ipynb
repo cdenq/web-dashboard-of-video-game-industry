{
 "cells": [
  {
   "cell_type": "code",
   "execution_count": 1,
   "id": "c08d353a",
   "metadata": {},
   "outputs": [],
   "source": [
    "# Python Program for demonstrating the PyMongo Cursor to JSON\n",
    "   \n",
    "# Importing required modules\n",
    "from pymongo import MongoClient\n",
    "from bson.json_util import dumps, loads\n",
    "  \n",
    "# Connecting to MongoDB server\n",
    "# client = MongoClient('host_name',\n",
    "# 'port_number')\n",
    "client = MongoClient('localhost', 27017)\n",
    "  \n",
    "# Connecting to the database named trending_games_db\n",
    "mydatabase = client.twitchviews_db\n",
    "   \n",
    "# Accessing the collection named twitch\n",
    "mycollection = mydatabase.items\n",
    "  \n",
    "# Now creating a Cursor instance using find() function\n",
    "cursor = mycollection.find()\n",
    "  \n",
    "# Converting cursor to the list of dictionaries\n",
    "list_cur = list(cursor)\n",
    "  \n",
    "# Converting to the JSON\n",
    "json_data = dumps(list_cur, indent = 2) \n",
    "   \n",
    "# Writing data to file data.json\n",
    "with open('views.json', 'w') as file:\n",
    "    file.write(json_data)"
   ]
  },
  {
   "cell_type": "code",
   "execution_count": null,
   "id": "74199990",
   "metadata": {},
   "outputs": [],
   "source": []
  }
 ],
 "metadata": {
  "kernelspec": {
   "display_name": "Python [conda env:PythonData] *",
   "language": "python",
   "name": "conda-env-PythonData-py"
  },
  "language_info": {
   "codemirror_mode": {
    "name": "ipython",
    "version": 3
   },
   "file_extension": ".py",
   "mimetype": "text/x-python",
   "name": "python",
   "nbconvert_exporter": "python",
   "pygments_lexer": "ipython3",
   "version": "3.8.11"
  }
 },
 "nbformat": 4,
 "nbformat_minor": 5
}
