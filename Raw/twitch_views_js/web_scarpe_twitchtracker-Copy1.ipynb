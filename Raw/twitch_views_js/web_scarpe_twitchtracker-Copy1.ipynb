{
 "cells": [
  {
   "cell_type": "code",
   "execution_count": 170,
   "id": "daea2105",
   "metadata": {},
   "outputs": [],
   "source": [
    "#Import Dependencies\n",
    "\n",
    "from bs4 import BeautifulSoup\n",
    "import requests\n",
    "import pymongo\n",
    "from splinter import Browser\n",
    "from webdriver_manager.chrome import ChromeDriverManager\n",
    "import pandas as pd\n",
    "import numpy as np\n",
    "\n",
    "from time import sleep\n",
    "import re"
   ]
  },
  {
   "cell_type": "code",
   "execution_count": 171,
   "id": "cfaa9e85",
   "metadata": {},
   "outputs": [
    {
     "name": "stderr",
     "output_type": "stream",
     "text": [
      "\n",
      "\n",
      "====== WebDriver manager ======\n",
      "Current google-chrome version is 97.0.4692\n",
      "Get LATEST chromedriver version for 97.0.4692 google-chrome\n",
      "Driver [/Users/joescuteri/.wdm/drivers/chromedriver/mac64/97.0.4692.71/chromedriver] found in cache\n"
     ]
    }
   ],
   "source": [
    "# Sets a path to Google Chrome\n",
    "executable_path = {'executable_path': ChromeDriverManager().install()}\n",
    "browser = Browser('chrome', **executable_path, headless=False)"
   ]
  },
  {
   "cell_type": "code",
   "execution_count": 185,
   "id": "ade91887",
   "metadata": {},
   "outputs": [],
   "source": [
    "# Root URL of the page to be scraped\n",
    "url = 'https://twitchtracker.com/games'\n",
    "# Visit the URL\n",
    "browser.visit(url)\n",
    "# Parse the link using BeautifulSoup\n",
    "html = browser.html\n",
    "soup = BeautifulSoup(html, 'html.parser')"
   ]
  },
  {
   "cell_type": "code",
   "execution_count": null,
   "id": "75bf8b6d",
   "metadata": {},
   "outputs": [],
   "source": []
  },
  {
   "cell_type": "code",
   "execution_count": null,
   "id": "e766b1b6",
   "metadata": {},
   "outputs": [],
   "source": []
  },
  {
   "cell_type": "code",
   "execution_count": 186,
   "id": "aadd2e51",
   "metadata": {},
   "outputs": [],
   "source": [
    "# Find the games and their respective views from page 1 of the table\n",
    "href_tags = soup.find_all(href=True)\n",
    "raw_games = href_tags[40:60]"
   ]
  },
  {
   "cell_type": "code",
   "execution_count": 187,
   "id": "d7a9712c",
   "metadata": {},
   "outputs": [],
   "source": [
    "tags = []\n",
    "for x in raw_games:\n",
    "    tags.append(str(x))"
   ]
  },
  {
   "cell_type": "code",
   "execution_count": 188,
   "id": "a3630d03",
   "metadata": {},
   "outputs": [],
   "source": [
    "games = []\n",
    "for element in tags:\n",
    "    if element not in games:\n",
    "        front = element.split(\">\")[1]\n",
    "        back = front.split(\"<\")[0]\n",
    "        games.append(back)"
   ]
  },
  {
   "cell_type": "code",
   "execution_count": 189,
   "id": "7e6a437b",
   "metadata": {},
   "outputs": [],
   "source": [
    "viewhtml = soup.find_all('div', class_=\"ri-value\")\n",
    "cleanedviews = []\n",
    "for x in viewhtml:\n",
    "    cleanedviews.append(str(x))"
   ]
  },
  {
   "cell_type": "code",
   "execution_count": 190,
   "id": "b3787c8f",
   "metadata": {},
   "outputs": [],
   "source": [
    "views = []\n",
    "for element in cleanedviews:\n",
    "    if element not in views:\n",
    "        front = element.split(\">\")[2]\n",
    "        back = front.split(\"<\")[0]\n",
    "        views.append(back)"
   ]
  },
  {
   "cell_type": "code",
   "execution_count": 191,
   "id": "0ac7b146",
   "metadata": {},
   "outputs": [
    {
     "data": {
      "text/html": [
       "<div>\n",
       "<style scoped>\n",
       "    .dataframe tbody tr th:only-of-type {\n",
       "        vertical-align: middle;\n",
       "    }\n",
       "\n",
       "    .dataframe tbody tr th {\n",
       "        vertical-align: top;\n",
       "    }\n",
       "\n",
       "    .dataframe thead th {\n",
       "        text-align: right;\n",
       "    }\n",
       "</style>\n",
       "<table border=\"1\" class=\"dataframe\">\n",
       "  <thead>\n",
       "    <tr style=\"text-align: right;\">\n",
       "      <th></th>\n",
       "      <th>GAME</th>\n",
       "      <th>VIEWS</th>\n",
       "    </tr>\n",
       "  </thead>\n",
       "  <tbody>\n",
       "    <tr>\n",
       "      <th>0</th>\n",
       "      <td>Just Chatting</td>\n",
       "      <td>376K</td>\n",
       "    </tr>\n",
       "    <tr>\n",
       "      <th>1</th>\n",
       "      <td>League of Legends</td>\n",
       "      <td>285K</td>\n",
       "    </tr>\n",
       "    <tr>\n",
       "      <th>2</th>\n",
       "      <td>Grand Theft Auto V</td>\n",
       "      <td>211K</td>\n",
       "    </tr>\n",
       "    <tr>\n",
       "      <th>3</th>\n",
       "      <td>VALORANT</td>\n",
       "      <td>128K</td>\n",
       "    </tr>\n",
       "    <tr>\n",
       "      <th>4</th>\n",
       "      <td>Rust</td>\n",
       "      <td>122K</td>\n",
       "    </tr>\n",
       "    <tr>\n",
       "      <th>5</th>\n",
       "      <td>Fortnite</td>\n",
       "      <td>93.2K</td>\n",
       "    </tr>\n",
       "    <tr>\n",
       "      <th>6</th>\n",
       "      <td>Apex Legends</td>\n",
       "      <td>91.7K</td>\n",
       "    </tr>\n",
       "    <tr>\n",
       "      <th>7</th>\n",
       "      <td>Escape from Tarkov</td>\n",
       "      <td>72.9K</td>\n",
       "    </tr>\n",
       "    <tr>\n",
       "      <th>8</th>\n",
       "      <td>Dota 2</td>\n",
       "      <td>64.9K</td>\n",
       "    </tr>\n",
       "    <tr>\n",
       "      <th>9</th>\n",
       "      <td>Call of Duty: Warzone</td>\n",
       "      <td>57.7K</td>\n",
       "    </tr>\n",
       "    <tr>\n",
       "      <th>10</th>\n",
       "      <td>Minecraft</td>\n",
       "      <td>52.0K</td>\n",
       "    </tr>\n",
       "    <tr>\n",
       "      <th>11</th>\n",
       "      <td>FIFA 22</td>\n",
       "      <td>50.0K</td>\n",
       "    </tr>\n",
       "    <tr>\n",
       "      <th>12</th>\n",
       "      <td>Counter-Strike: Global Offensive</td>\n",
       "      <td>47.6K</td>\n",
       "    </tr>\n",
       "    <tr>\n",
       "      <th>13</th>\n",
       "      <td>Slots</td>\n",
       "      <td>35.4K</td>\n",
       "    </tr>\n",
       "    <tr>\n",
       "      <th>14</th>\n",
       "      <td>Monster Hunter Rise</td>\n",
       "      <td>34.4K</td>\n",
       "    </tr>\n",
       "    <tr>\n",
       "      <th>15</th>\n",
       "      <td>Music</td>\n",
       "      <td>33.7K</td>\n",
       "    </tr>\n",
       "    <tr>\n",
       "      <th>16</th>\n",
       "      <td>Teamfight Tactics</td>\n",
       "      <td>32.4K</td>\n",
       "    </tr>\n",
       "    <tr>\n",
       "      <th>17</th>\n",
       "      <td>God of War</td>\n",
       "      <td>31.8K</td>\n",
       "    </tr>\n",
       "    <tr>\n",
       "      <th>18</th>\n",
       "      <td>Dead by Daylight</td>\n",
       "      <td>30.2K</td>\n",
       "    </tr>\n",
       "    <tr>\n",
       "      <th>19</th>\n",
       "      <td>Hearthstone</td>\n",
       "      <td>29.0K</td>\n",
       "    </tr>\n",
       "  </tbody>\n",
       "</table>\n",
       "</div>"
      ],
      "text/plain": [
       "                                GAME  VIEWS\n",
       "0                      Just Chatting   376K\n",
       "1                  League of Legends   285K\n",
       "2                 Grand Theft Auto V   211K\n",
       "3                           VALORANT   128K\n",
       "4                               Rust   122K\n",
       "5                           Fortnite  93.2K\n",
       "6                       Apex Legends  91.7K\n",
       "7                 Escape from Tarkov  72.9K\n",
       "8                             Dota 2  64.9K\n",
       "9              Call of Duty: Warzone  57.7K\n",
       "10                         Minecraft  52.0K\n",
       "11                           FIFA 22  50.0K\n",
       "12  Counter-Strike: Global Offensive  47.6K\n",
       "13                             Slots  35.4K\n",
       "14               Monster Hunter Rise  34.4K\n",
       "15                             Music  33.7K\n",
       "16                 Teamfight Tactics  32.4K\n",
       "17                        God of War  31.8K\n",
       "18                  Dead by Daylight  30.2K\n",
       "19                       Hearthstone  29.0K"
      ]
     },
     "execution_count": 191,
     "metadata": {},
     "output_type": "execute_result"
    }
   ],
   "source": [
    "# Upload to DataFrame \n",
    "df = pd.DataFrame(games, columns = ['GAME'])\n",
    "df['VIEWS'] = views\n",
    "df"
   ]
  },
  {
   "cell_type": "code",
   "execution_count": 193,
   "id": "89c5e367",
   "metadata": {},
   "outputs": [],
   "source": [
    "# Change VIEWS column to integers\n",
    "\n",
    "df.VIEWS = (df.VIEWS.replace(r'[KM]+$', '', regex=True).astype(float) * df.VIEWS.str.extract(r'[\\d\\.]+([KM]+)', expand=False)\n",
    "             .fillna(1)\n",
    "             .replace(['K','M'], [10**3, 10**6]).astype(int))"
   ]
  },
  {
   "cell_type": "code",
   "execution_count": 194,
   "id": "6910a524",
   "metadata": {},
   "outputs": [],
   "source": [
    "avg_views = df['VIEWS'].mean()\n",
    "median_views = df['VIEWS'].median()"
   ]
  },
  {
   "cell_type": "code",
   "execution_count": 195,
   "id": "526ac501",
   "metadata": {},
   "outputs": [
    {
     "data": {
      "text/plain": [
       "54850.0"
      ]
     },
     "execution_count": 195,
     "metadata": {},
     "output_type": "execute_result"
    }
   ],
   "source": [
    "median_views"
   ]
  },
  {
   "cell_type": "code",
   "execution_count": null,
   "id": "c95ba93d",
   "metadata": {},
   "outputs": [],
   "source": []
  },
  {
   "cell_type": "code",
   "execution_count": null,
   "id": "a7364eb4",
   "metadata": {},
   "outputs": [],
   "source": []
  },
  {
   "cell_type": "code",
   "execution_count": 11,
   "id": "1c057f02",
   "metadata": {},
   "outputs": [],
   "source": [
    "# Convert DataFrame into Dictionary\n",
    "twitch = pd.Series(df3.VIEWS.values,index=df3.GAMES).to_dict()"
   ]
  },
  {
   "cell_type": "code",
   "execution_count": 12,
   "id": "206b3bc0",
   "metadata": {},
   "outputs": [
    {
     "data": {
      "text/plain": [
       "{'Just Chatting': '374,034',\n",
       " 'League of Legends': '269,528',\n",
       " 'Rust': '223,036',\n",
       " 'Grand Theft Auto V': '198,498',\n",
       " 'Escape from Tarkov': '122,840',\n",
       " 'VALORANT': '116,776',\n",
       " 'Apex Legends': '96,378',\n",
       " 'Fortnite': '89,392',\n",
       " 'Dota 2': '71,811'}"
      ]
     },
     "execution_count": 12,
     "metadata": {},
     "output_type": "execute_result"
    }
   ],
   "source": [
    "twitch"
   ]
  },
  {
   "cell_type": "markdown",
   "id": "3d547781",
   "metadata": {},
   "source": [
    "# Migrating it to MongoDB"
   ]
  },
  {
   "cell_type": "code",
   "execution_count": 26,
   "id": "10a9cc6c",
   "metadata": {},
   "outputs": [],
   "source": [
    "# connecting to mongodb\n",
    "conn = 'mongodb://localhost:27017'\n",
    "client = pymongo.MongoClient(conn)\n",
    "\n",
    "# declare the database\n",
    "db = client.twitchviews_db\n",
    "collection = db.items"
   ]
  },
  {
   "cell_type": "code",
   "execution_count": 29,
   "id": "32775c90",
   "metadata": {},
   "outputs": [
    {
     "data": {
      "text/plain": [
       "<pymongo.results.InsertOneResult at 0x7fe13a949440>"
      ]
     },
     "execution_count": 29,
     "metadata": {},
     "output_type": "execute_result"
    }
   ],
   "source": [
    "# Push into MongoDB\n",
    "collection.insert_one(twitch)"
   ]
  }
 ],
 "metadata": {
  "kernelspec": {
   "display_name": "Python [conda env:PythonData] *",
   "language": "python",
   "name": "conda-env-PythonData-py"
  },
  "language_info": {
   "codemirror_mode": {
    "name": "ipython",
    "version": 3
   },
   "file_extension": ".py",
   "mimetype": "text/x-python",
   "name": "python",
   "nbconvert_exporter": "python",
   "pygments_lexer": "ipython3",
   "version": "3.8.11"
  }
 },
 "nbformat": 4,
 "nbformat_minor": 5
}
