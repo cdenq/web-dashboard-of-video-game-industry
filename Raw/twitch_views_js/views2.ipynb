{
 "cells": [
  {
   "cell_type": "code",
   "execution_count": 2,
   "id": "4f5510de",
   "metadata": {},
   "outputs": [],
   "source": [
    "# Python Program for\n",
    "# demonstrating the \n",
    "# PyMongo Cursor to JSON\n",
    "\n",
    "from pymongo import MongoClient\n",
    "from bson.json_util import dumps, loads\n",
    "  \n",
    "# client = MongoClient('host_name',\n",
    "# 'port_number')\n",
    "client = MongoClient('localhost', 27017)\n",
    "  \n",
    "# Connecting to the database named\n",
    "# twitchviews_db\n",
    "mydatabase = client.twitchviews_db\n",
    "   \n",
    "# Accessing the collection named\n",
    "# items\n",
    "mycollection = mydatabase.items\n",
    "  \n",
    "# Now creating a Cursor instance\n",
    "# using find() function\n",
    "cursor = mycollection.find()\n",
    "  \n",
    "# Converting cursor to the list \n",
    "# of dictionaries\n",
    "list_cur = list(cursor)\n",
    "  \n",
    "# Converting to the JSON\n",
    "json_data = dumps(list_cur, indent = 2) \n",
    "   \n",
    "# Writing data to file data.json\n",
    "with open('views2.json', 'w') as file:\n",
    "    file.write(json_data)"
   ]
  },
  {
   "cell_type": "code",
   "execution_count": null,
   "id": "85b7d6c5",
   "metadata": {},
   "outputs": [],
   "source": []
  }
 ],
 "metadata": {
  "kernelspec": {
   "display_name": "Python [conda env:PythonData] *",
   "language": "python",
   "name": "conda-env-PythonData-py"
  },
  "language_info": {
   "codemirror_mode": {
    "name": "ipython",
    "version": 3
   },
   "file_extension": ".py",
   "mimetype": "text/x-python",
   "name": "python",
   "nbconvert_exporter": "python",
   "pygments_lexer": "ipython3",
   "version": "3.8.11"
  }
 },
 "nbformat": 4,
 "nbformat_minor": 5
}
