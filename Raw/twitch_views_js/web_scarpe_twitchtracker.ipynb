{
 "cells": [
  {
   "cell_type": "code",
   "execution_count": 1,
   "id": "daea2105",
   "metadata": {},
   "outputs": [],
   "source": [
    "#Import Dependencies\n",
    "\n",
    "from bs4 import BeautifulSoup\n",
    "import requests\n",
    "import pymongo\n",
    "from splinter import Browser\n",
    "from webdriver_manager.chrome import ChromeDriverManager\n",
    "import pandas as pd\n",
    "import numpy as np\n",
    "\n",
    "# Imports for routes\n",
    "from flask import Flask, render_template, redirect\n",
    "from flask_pymongo import PyMongo"
   ]
  },
  {
   "cell_type": "code",
   "execution_count": 2,
   "id": "cfaa9e85",
   "metadata": {},
   "outputs": [
    {
     "name": "stderr",
     "output_type": "stream",
     "text": [
      "\n",
      "\n",
      "====== WebDriver manager ======\n",
      "Current google-chrome version is 97.0.4692\n",
      "Get LATEST chromedriver version for 97.0.4692 google-chrome\n",
      "Driver [/Users/joescuteri/.wdm/drivers/chromedriver/mac64/97.0.4692.71/chromedriver] found in cache\n"
     ]
    }
   ],
   "source": [
    "# Sets a path to Google Chrome\n",
    "executable_path = {'executable_path': ChromeDriverManager().install()}\n",
    "browser = Browser('chrome', **executable_path, headless=False)"
   ]
  },
  {
   "cell_type": "code",
   "execution_count": 3,
   "id": "ade91887",
   "metadata": {},
   "outputs": [],
   "source": [
    "# URL of the page to be scraped\n",
    "url = 'https://twitchtracker.com/statistics/games'\n",
    "# Visit the URL\n",
    "browser.visit(url)\n",
    "# Parse the link using BeautifulSoup\n",
    "html = browser.html\n",
    "soup = BeautifulSoup(html, 'html.parser')"
   ]
  },
  {
   "cell_type": "code",
   "execution_count": 5,
   "id": "59efa978",
   "metadata": {},
   "outputs": [],
   "source": [
    "# Find the games and their respective views from page 1 of the table\n",
    "games1 = []\n",
    "views1 = []\n",
    "\n",
    "table1 = soup.find('table', id='share-table')\n",
    "\n",
    "for i in table1.find_all('a'):\n",
    "    output = i.text\n",
    "    games1.append(output)\n",
    "\n",
    "for i in table1.find_all('td', class_=\"sorting_1\"):\n",
    "    output = i.text\n",
    "    views1.append(output)"
   ]
  },
  {
   "cell_type": "code",
   "execution_count": 14,
   "id": "48188871",
   "metadata": {},
   "outputs": [],
   "source": [
    "# # Navigate to page two\n",
    "# page_two = browser.links.find_by_partial_text('2')[1].click()"
   ]
  },
  {
   "cell_type": "code",
   "execution_count": 16,
   "id": "aa3d56b8",
   "metadata": {},
   "outputs": [],
   "source": [
    "# Find the games and their respective views from page 1 of the table\n",
    "\n",
    "# games2 = []\n",
    "# views2 = []\n",
    "\n",
    "#table2 = soup.find('table', id='share-table')\n",
    "\n",
    "# for i in table2.find_all('a'):\n",
    "#     output = i.text\n",
    "#     games2.append(output)\n",
    "    \n",
    "# for i in table1.find_all('td', class_=\"sorting_1\"):\n",
    "#     output = i.text\n",
    "#     views2.append(output)"
   ]
  },
  {
   "cell_type": "code",
   "execution_count": 9,
   "id": "bf7db9d8",
   "metadata": {},
   "outputs": [],
   "source": [
    "# Remove \"All Other Games Combined\" from views1\n",
    "del views1[0]\n",
    "\n",
    "# Remove leading and trailing spaces\n",
    "views1cleaned = []\n",
    "\n",
    "for i in views1:\n",
    "    j = i.replace(' ','')\n",
    "    views1cleaned.append(j)"
   ]
  },
  {
   "cell_type": "code",
   "execution_count": 10,
   "id": "33ebb232",
   "metadata": {},
   "outputs": [],
   "source": [
    "# Upload to DataFrame and remove extra characters\n",
    "df3 = pd.DataFrame(games1, columns = ['GAMES'])\n",
    "df3['VIEWS'] = views1cleaned\n",
    "df3 = df3.replace(r'\\n+|\\t+','', regex=True)"
   ]
  },
  {
   "cell_type": "code",
   "execution_count": 11,
   "id": "1c057f02",
   "metadata": {},
   "outputs": [],
   "source": [
    "# Convert DataFrame into Dictionary\n",
    "twitch = pd.Series(df3.VIEWS.values,index=df3.GAMES).to_dict()"
   ]
  },
  {
   "cell_type": "code",
   "execution_count": 12,
   "id": "206b3bc0",
   "metadata": {},
   "outputs": [
    {
     "data": {
      "text/plain": [
       "{'Just Chatting': '374,034',\n",
       " 'League of Legends': '269,528',\n",
       " 'Rust': '223,036',\n",
       " 'Grand Theft Auto V': '198,498',\n",
       " 'Escape from Tarkov': '122,840',\n",
       " 'VALORANT': '116,776',\n",
       " 'Apex Legends': '96,378',\n",
       " 'Fortnite': '89,392',\n",
       " 'Dota 2': '71,811'}"
      ]
     },
     "execution_count": 12,
     "metadata": {},
     "output_type": "execute_result"
    }
   ],
   "source": [
    "twitch"
   ]
  },
  {
   "cell_type": "markdown",
   "id": "3d547781",
   "metadata": {},
   "source": [
    "# Migrating it to MongoDB"
   ]
  },
  {
   "cell_type": "code",
   "execution_count": 26,
   "id": "10a9cc6c",
   "metadata": {},
   "outputs": [],
   "source": [
    "# connecting to mongodb\n",
    "conn = 'mongodb://localhost:27017'\n",
    "client = pymongo.MongoClient(conn)\n",
    "\n",
    "# declare the database\n",
    "db = client.twitchviews_db\n",
    "collection = db.items"
   ]
  },
  {
   "cell_type": "code",
   "execution_count": 29,
   "id": "32775c90",
   "metadata": {},
   "outputs": [
    {
     "data": {
      "text/plain": [
       "<pymongo.results.InsertOneResult at 0x7fe13a949440>"
      ]
     },
     "execution_count": 29,
     "metadata": {},
     "output_type": "execute_result"
    }
   ],
   "source": [
    "# Push into MongoDB\n",
    "collection.insert_one(twitch)"
   ]
  }
 ],
 "metadata": {
  "kernelspec": {
   "display_name": "Python [conda env:PythonData] *",
   "language": "python",
   "name": "conda-env-PythonData-py"
  },
  "language_info": {
   "codemirror_mode": {
    "name": "ipython",
    "version": 3
   },
   "file_extension": ".py",
   "mimetype": "text/x-python",
   "name": "python",
   "nbconvert_exporter": "python",
   "pygments_lexer": "ipython3",
   "version": "3.8.11"
  }
 },
 "nbformat": 4,
 "nbformat_minor": 5
}
