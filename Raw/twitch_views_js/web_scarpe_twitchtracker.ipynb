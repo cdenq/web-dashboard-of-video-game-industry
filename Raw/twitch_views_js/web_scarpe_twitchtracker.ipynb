{
 "cells": [
  {
   "cell_type": "code",
   "execution_count": 259,
   "id": "8c0a9e13",
   "metadata": {},
   "outputs": [],
   "source": [
    "#Import Dependencies\n",
    "\n",
    "from bs4 import BeautifulSoup\n",
    "import requests\n",
    "import pymongo\n",
    "from splinter import Browser\n",
    "import pandas \n",
    "from webdriver_manager.chrome import ChromeDriverManager\n",
    "import pandas as pd\n",
    "import numpy as np\n",
    "\n",
    "# Imports for routes\n",
    "from flask import Flask, render_template, redirect\n",
    "from flask_pymongo import PyMongo\n",
    "# import scrape_mars\n",
    "\n",
    "import time\n",
    "\n",
    "from selenium import webdriver"
   ]
  },
  {
   "cell_type": "code",
   "execution_count": 260,
   "id": "07fe6b9e",
   "metadata": {},
   "outputs": [],
   "source": [
    "# Initialize PyMongo to work with MongoDBs\n",
    "conn = 'mongodb://localhost:27017'\n",
    "client = pymongo.MongoClient(conn)"
   ]
  },
  {
   "cell_type": "code",
   "execution_count": 261,
   "id": "5d07d12c",
   "metadata": {},
   "outputs": [],
   "source": [
    "# Connect to a MongoDB\n",
    "db = client.twitch_db\n",
    "collection = db.items"
   ]
  },
  {
   "cell_type": "code",
   "execution_count": 262,
   "id": "94fc1924",
   "metadata": {},
   "outputs": [
    {
     "name": "stderr",
     "output_type": "stream",
     "text": [
      "\n",
      "\n",
      "====== WebDriver manager ======\n",
      "Current google-chrome version is 97.0.4692\n",
      "Get LATEST chromedriver version for 97.0.4692 google-chrome\n",
      "Driver [/Users/joescuteri/.wdm/drivers/chromedriver/mac64/97.0.4692.71/chromedriver] found in cache\n"
     ]
    }
   ],
   "source": [
    "# Sets a path to Google Chrome\n",
    "executable_path = {'executable_path': ChromeDriverManager().install()}\n",
    "browser = Browser('chrome', **executable_path, headless=False)"
   ]
  },
  {
   "cell_type": "code",
   "execution_count": 263,
   "id": "2ca8220a",
   "metadata": {},
   "outputs": [],
   "source": [
    "# URL of the page to be scraped\n",
    "url = 'https://twitchtracker.com/statistics/games'"
   ]
  },
  {
   "cell_type": "code",
   "execution_count": 264,
   "id": "f86dabe0",
   "metadata": {},
   "outputs": [],
   "source": [
    "# Visit the browser\n",
    "browser.visit(url)"
   ]
  },
  {
   "cell_type": "code",
   "execution_count": 265,
   "id": "e2c18bad",
   "metadata": {},
   "outputs": [],
   "source": [
    "# Convert the browser to HTML\n",
    "html = browser.html"
   ]
  },
  {
   "cell_type": "code",
   "execution_count": 266,
   "id": "b45866e3",
   "metadata": {},
   "outputs": [],
   "source": [
    "# Create BeautifulSoup object; parse with 'lxml' or 'html.parser'. This takes your browser and breaks it up into digestable pieces\n",
    "soup = BeautifulSoup(html, 'html.parser')"
   ]
  },
  {
   "cell_type": "code",
   "execution_count": 267,
   "id": "9d48f882",
   "metadata": {},
   "outputs": [],
   "source": [
    "# Make it pretty and easy to read\n",
    "# print(soup.prettify())"
   ]
  },
  {
   "cell_type": "code",
   "execution_count": 268,
   "id": "32ea8610",
   "metadata": {},
   "outputs": [],
   "source": [
    "table1 = soup.find('table', id='share-table')"
   ]
  },
  {
   "cell_type": "code",
   "execution_count": 269,
   "id": "f27d8adc",
   "metadata": {},
   "outputs": [],
   "source": [
    "# Page 1 Games\n",
    "games1 = []\n",
    "\n",
    "for i in table1.find_all('a'):\n",
    "    output = i.text\n",
    "    games1.append(output)"
   ]
  },
  {
   "cell_type": "code",
   "execution_count": 270,
   "id": "ca188511",
   "metadata": {},
   "outputs": [
    {
     "data": {
      "text/plain": [
       "['Just Chatting',\n",
       " 'League of Legends',\n",
       " 'Escape from Tarkov',\n",
       " 'Grand Theft Auto V',\n",
       " 'Rust',\n",
       " 'VALORANT',\n",
       " 'Fortnite',\n",
       " 'Apex Legends',\n",
       " 'Dota 2']"
      ]
     },
     "execution_count": 270,
     "metadata": {},
     "output_type": "execute_result"
    }
   ],
   "source": [
    "games1"
   ]
  },
  {
   "cell_type": "code",
   "execution_count": 271,
   "id": "5c4e7f96",
   "metadata": {},
   "outputs": [],
   "source": [
    "# Page 1 Views\n",
    "views1 = []\n",
    "\n",
    "for i in table1.find_all('td', class_=\"sorting_1\"):\n",
    "    output = i.text\n",
    "    views1.append(output)"
   ]
  },
  {
   "cell_type": "code",
   "execution_count": 272,
   "id": "d1ea852c",
   "metadata": {},
   "outputs": [
    {
     "data": {
      "text/plain": [
       "['\\n\\t\\t                        \\t1,006,841\\n\\t\\t                        ',\n",
       " '\\n\\t\\t                        \\t380,205\\n\\t\\t                        ',\n",
       " '\\n\\t\\t                        \\t232,814\\n\\t\\t                        ',\n",
       " '\\n\\t\\t                        \\t196,796\\n\\t\\t                        ',\n",
       " '\\n\\t\\t                        \\t194,572\\n\\t\\t                        ',\n",
       " '\\n\\t\\t                        \\t190,060\\n\\t\\t                        ',\n",
       " '\\n\\t\\t                        \\t102,344\\n\\t\\t                        ',\n",
       " '\\n\\t\\t                        \\t95,641\\n\\t\\t                        ',\n",
       " '\\n\\t\\t                        \\t87,779\\n\\t\\t                        ',\n",
       " '\\n\\t\\t                        \\t70,686\\n\\t\\t                        ']"
      ]
     },
     "execution_count": 272,
     "metadata": {},
     "output_type": "execute_result"
    }
   ],
   "source": [
    "views1"
   ]
  },
  {
   "cell_type": "code",
   "execution_count": 280,
   "id": "f0cde58f",
   "metadata": {},
   "outputs": [],
   "source": [
    "# Navigate to page two\n",
    "page_two = browser.links.find_by_partial_text('2')[1].click()"
   ]
  },
  {
   "cell_type": "code",
   "execution_count": 281,
   "id": "20c9a9e8",
   "metadata": {},
   "outputs": [],
   "source": [
    "# Page 2 Games\n",
    "games2 = []\n",
    "\n",
    "for i in table1.find_all('a'):\n",
    "    output = i.text\n",
    "    games2.append(output)"
   ]
  },
  {
   "cell_type": "code",
   "execution_count": 282,
   "id": "39dab7a4",
   "metadata": {},
   "outputs": [
    {
     "data": {
      "text/plain": [
       "['Just Chatting',\n",
       " 'League of Legends',\n",
       " 'Escape from Tarkov',\n",
       " 'Grand Theft Auto V',\n",
       " 'Rust',\n",
       " 'VALORANT',\n",
       " 'Fortnite',\n",
       " 'Apex Legends',\n",
       " 'Dota 2']"
      ]
     },
     "execution_count": 282,
     "metadata": {},
     "output_type": "execute_result"
    }
   ],
   "source": [
    "games2"
   ]
  },
  {
   "cell_type": "code",
   "execution_count": null,
   "id": "1e2023e1",
   "metadata": {},
   "outputs": [],
   "source": [
    "# Page 1 Views\n",
    "views2 = []\n",
    "\n",
    "for i in table1.find_all('td', class_=\"sorting_1\"):\n",
    "    output = i.text\n",
    "    views2.append(output)"
   ]
  },
  {
   "cell_type": "code",
   "execution_count": 252,
   "id": "bfdb9826",
   "metadata": {},
   "outputs": [
    {
     "data": {
      "text/plain": [
       "['\\n\\t\\t                        \\t380,205\\n\\t\\t                        ',\n",
       " '\\n\\t\\t                        \\t232,814\\n\\t\\t                        ',\n",
       " '\\n\\t\\t                        \\t196,796\\n\\t\\t                        ',\n",
       " '\\n\\t\\t                        \\t194,572\\n\\t\\t                        ',\n",
       " '\\n\\t\\t                        \\t190,060\\n\\t\\t                        ',\n",
       " '\\n\\t\\t                        \\t102,344\\n\\t\\t                        ',\n",
       " '\\n\\t\\t                        \\t95,641\\n\\t\\t                        ',\n",
       " '\\n\\t\\t                        \\t87,779\\n\\t\\t                        ',\n",
       " '\\n\\t\\t                        \\t70,686\\n\\t\\t                        ']"
      ]
     },
     "execution_count": 252,
     "metadata": {},
     "output_type": "execute_result"
    }
   ],
   "source": [
    "# Remove All Other Games Combined from views\n",
    "del views1[0]\n",
    "views1"
   ]
  },
  {
   "cell_type": "code",
   "execution_count": 253,
   "id": "5e649d35",
   "metadata": {},
   "outputs": [],
   "source": [
    "df3 = pd.DataFrame(games1, columns = ['GAMES'])"
   ]
  },
  {
   "cell_type": "code",
   "execution_count": 254,
   "id": "8ffee4b1",
   "metadata": {},
   "outputs": [],
   "source": [
    "df3['VIEWS'] = views1"
   ]
  },
  {
   "cell_type": "code",
   "execution_count": 255,
   "id": "1b42ba29",
   "metadata": {},
   "outputs": [
    {
     "data": {
      "text/html": [
       "<div>\n",
       "<style scoped>\n",
       "    .dataframe tbody tr th:only-of-type {\n",
       "        vertical-align: middle;\n",
       "    }\n",
       "\n",
       "    .dataframe tbody tr th {\n",
       "        vertical-align: top;\n",
       "    }\n",
       "\n",
       "    .dataframe thead th {\n",
       "        text-align: right;\n",
       "    }\n",
       "</style>\n",
       "<table border=\"1\" class=\"dataframe\">\n",
       "  <thead>\n",
       "    <tr style=\"text-align: right;\">\n",
       "      <th></th>\n",
       "      <th>GAMES</th>\n",
       "      <th>VIEWS</th>\n",
       "    </tr>\n",
       "  </thead>\n",
       "  <tbody>\n",
       "    <tr>\n",
       "      <th>0</th>\n",
       "      <td>Just Chatting</td>\n",
       "      <td>\\n\\t\\t                        \\t380,205\\n\\t\\t ...</td>\n",
       "    </tr>\n",
       "    <tr>\n",
       "      <th>1</th>\n",
       "      <td>League of Legends</td>\n",
       "      <td>\\n\\t\\t                        \\t232,814\\n\\t\\t ...</td>\n",
       "    </tr>\n",
       "    <tr>\n",
       "      <th>2</th>\n",
       "      <td>Escape from Tarkov</td>\n",
       "      <td>\\n\\t\\t                        \\t196,796\\n\\t\\t ...</td>\n",
       "    </tr>\n",
       "    <tr>\n",
       "      <th>3</th>\n",
       "      <td>Grand Theft Auto V</td>\n",
       "      <td>\\n\\t\\t                        \\t194,572\\n\\t\\t ...</td>\n",
       "    </tr>\n",
       "    <tr>\n",
       "      <th>4</th>\n",
       "      <td>Rust</td>\n",
       "      <td>\\n\\t\\t                        \\t190,060\\n\\t\\t ...</td>\n",
       "    </tr>\n",
       "    <tr>\n",
       "      <th>5</th>\n",
       "      <td>VALORANT</td>\n",
       "      <td>\\n\\t\\t                        \\t102,344\\n\\t\\t ...</td>\n",
       "    </tr>\n",
       "    <tr>\n",
       "      <th>6</th>\n",
       "      <td>Fortnite</td>\n",
       "      <td>\\n\\t\\t                        \\t95,641\\n\\t\\t  ...</td>\n",
       "    </tr>\n",
       "    <tr>\n",
       "      <th>7</th>\n",
       "      <td>Apex Legends</td>\n",
       "      <td>\\n\\t\\t                        \\t87,779\\n\\t\\t  ...</td>\n",
       "    </tr>\n",
       "    <tr>\n",
       "      <th>8</th>\n",
       "      <td>Dota 2</td>\n",
       "      <td>\\n\\t\\t                        \\t70,686\\n\\t\\t  ...</td>\n",
       "    </tr>\n",
       "  </tbody>\n",
       "</table>\n",
       "</div>"
      ],
      "text/plain": [
       "                GAMES                                              VIEWS\n",
       "0       Just Chatting  \\n\\t\\t                        \\t380,205\\n\\t\\t ...\n",
       "1   League of Legends  \\n\\t\\t                        \\t232,814\\n\\t\\t ...\n",
       "2  Escape from Tarkov  \\n\\t\\t                        \\t196,796\\n\\t\\t ...\n",
       "3  Grand Theft Auto V  \\n\\t\\t                        \\t194,572\\n\\t\\t ...\n",
       "4                Rust  \\n\\t\\t                        \\t190,060\\n\\t\\t ...\n",
       "5            VALORANT  \\n\\t\\t                        \\t102,344\\n\\t\\t ...\n",
       "6            Fortnite  \\n\\t\\t                        \\t95,641\\n\\t\\t  ...\n",
       "7        Apex Legends  \\n\\t\\t                        \\t87,779\\n\\t\\t  ...\n",
       "8              Dota 2  \\n\\t\\t                        \\t70,686\\n\\t\\t  ..."
      ]
     },
     "execution_count": 255,
     "metadata": {},
     "output_type": "execute_result"
    }
   ],
   "source": [
    "df3"
   ]
  },
  {
   "cell_type": "code",
   "execution_count": 256,
   "id": "12e0c86d",
   "metadata": {},
   "outputs": [],
   "source": [
    "df3 = df3.replace(r'\\n+|\\t+',' ', regex=True)"
   ]
  },
  {
   "cell_type": "code",
   "execution_count": 257,
   "id": "0746d4e2",
   "metadata": {},
   "outputs": [
    {
     "data": {
      "text/html": [
       "<div>\n",
       "<style scoped>\n",
       "    .dataframe tbody tr th:only-of-type {\n",
       "        vertical-align: middle;\n",
       "    }\n",
       "\n",
       "    .dataframe tbody tr th {\n",
       "        vertical-align: top;\n",
       "    }\n",
       "\n",
       "    .dataframe thead th {\n",
       "        text-align: right;\n",
       "    }\n",
       "</style>\n",
       "<table border=\"1\" class=\"dataframe\">\n",
       "  <thead>\n",
       "    <tr style=\"text-align: right;\">\n",
       "      <th></th>\n",
       "      <th>GAMES</th>\n",
       "      <th>VIEWS</th>\n",
       "    </tr>\n",
       "  </thead>\n",
       "  <tbody>\n",
       "    <tr>\n",
       "      <th>0</th>\n",
       "      <td>Just Chatting</td>\n",
       "      <td>380,205            ...</td>\n",
       "    </tr>\n",
       "    <tr>\n",
       "      <th>1</th>\n",
       "      <td>League of Legends</td>\n",
       "      <td>232,814            ...</td>\n",
       "    </tr>\n",
       "    <tr>\n",
       "      <th>2</th>\n",
       "      <td>Escape from Tarkov</td>\n",
       "      <td>196,796            ...</td>\n",
       "    </tr>\n",
       "    <tr>\n",
       "      <th>3</th>\n",
       "      <td>Grand Theft Auto V</td>\n",
       "      <td>194,572            ...</td>\n",
       "    </tr>\n",
       "    <tr>\n",
       "      <th>4</th>\n",
       "      <td>Rust</td>\n",
       "      <td>190,060            ...</td>\n",
       "    </tr>\n",
       "    <tr>\n",
       "      <th>5</th>\n",
       "      <td>VALORANT</td>\n",
       "      <td>102,344            ...</td>\n",
       "    </tr>\n",
       "    <tr>\n",
       "      <th>6</th>\n",
       "      <td>Fortnite</td>\n",
       "      <td>95,641             ...</td>\n",
       "    </tr>\n",
       "    <tr>\n",
       "      <th>7</th>\n",
       "      <td>Apex Legends</td>\n",
       "      <td>87,779             ...</td>\n",
       "    </tr>\n",
       "    <tr>\n",
       "      <th>8</th>\n",
       "      <td>Dota 2</td>\n",
       "      <td>70,686             ...</td>\n",
       "    </tr>\n",
       "  </tbody>\n",
       "</table>\n",
       "</div>"
      ],
      "text/plain": [
       "                GAMES                                              VIEWS\n",
       "0       Just Chatting                             380,205            ...\n",
       "1   League of Legends                             232,814            ...\n",
       "2  Escape from Tarkov                             196,796            ...\n",
       "3  Grand Theft Auto V                             194,572            ...\n",
       "4                Rust                             190,060            ...\n",
       "5            VALORANT                             102,344            ...\n",
       "6            Fortnite                             95,641             ...\n",
       "7        Apex Legends                             87,779             ...\n",
       "8              Dota 2                             70,686             ..."
      ]
     },
     "execution_count": 257,
     "metadata": {},
     "output_type": "execute_result"
    }
   ],
   "source": [
    "df3"
   ]
  },
  {
   "cell_type": "code",
   "execution_count": null,
   "id": "22cc4b0a",
   "metadata": {},
   "outputs": [],
   "source": []
  }
 ],
 "metadata": {
  "kernelspec": {
   "display_name": "Python [conda env:PythonData] *",
   "language": "python",
   "name": "conda-env-PythonData-py"
  },
  "language_info": {
   "codemirror_mode": {
    "name": "ipython",
    "version": 3
   },
   "file_extension": ".py",
   "mimetype": "text/x-python",
   "name": "python",
   "nbconvert_exporter": "python",
   "pygments_lexer": "ipython3",
   "version": "3.8.11"
  }
 },
 "nbformat": 4,
 "nbformat_minor": 5
}
