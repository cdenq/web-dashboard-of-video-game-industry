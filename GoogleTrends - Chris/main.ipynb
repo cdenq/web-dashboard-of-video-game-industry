{
 "cells": [
  {
   "cell_type": "markdown",
   "metadata": {},
   "source": [
    "# Dependencies"
   ]
  },
  {
   "cell_type": "code",
   "execution_count": 1,
   "metadata": {},
   "outputs": [],
   "source": [
    "import pandas as pd"
   ]
  },
  {
   "cell_type": "markdown",
   "metadata": {},
   "source": [
    "# Import"
   ]
  },
  {
   "cell_type": "code",
   "execution_count": 2,
   "metadata": {},
   "outputs": [],
   "source": [
    "#timeline information\n",
    "search_being = pd.read_csv('/Resources/multiTimeline(BeingADIK).csv')\n",
    "search_twoworld = pd.read_csv('/Resources/multiTimeline(Two World II).csv')\n",
    "search_vampires = pd.read_csv('/Resources/multiTimeline(Vampires).csv')\n",
    "search_vtol = pd.read_csv('/Resources/multiTimeline(VTOL VR).csv')\n",
    "\n",
    "#geomap information\n",
    "geo_being = pd.read_csv('/Resources/geoMap(BeingADIK).csv')\n",
    "geo_twoworld = pd.read_csv('/Resources/geoMap(Two World II).csv')\n",
    "geo_vampires = pd.read_csv('/Resources/geoMap(Vampires).csv')\n",
    "geo_vtol = pd.read_csv('/Resources/geoMap(VTOL VR).csv')"
   ]
  },
  {
   "cell_type": "code",
   "execution_count": null,
   "metadata": {},
   "outputs": [],
   "source": []
  }
 ],
 "metadata": {
  "interpreter": {
   "hash": "ea2b65024e24df10fa5992686c1c8510a4831519011fa6b2d6f1788e8385f578"
  },
  "kernelspec": {
   "display_name": "Python 3.8.12 64-bit ('PythonData': conda)",
   "language": "python",
   "name": "python3"
  },
  "language_info": {
   "codemirror_mode": {
    "name": "ipython",
    "version": 3
   },
   "file_extension": ".py",
   "mimetype": "text/x-python",
   "name": "python",
   "nbconvert_exporter": "python",
   "pygments_lexer": "ipython3",
   "version": "3.8.12"
  },
  "orig_nbformat": 4
 },
 "nbformat": 4,
 "nbformat_minor": 2
}
