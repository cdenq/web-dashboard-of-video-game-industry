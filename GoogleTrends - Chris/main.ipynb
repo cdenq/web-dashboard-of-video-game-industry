{
 "cells": [
  {
   "cell_type": "markdown",
   "metadata": {},
   "source": [
    "# Dependencies"
   ]
  },
  {
   "cell_type": "code",
   "execution_count": 1,
   "metadata": {},
   "outputs": [],
   "source": [
    "import pandas as pd\n",
    "import pymongo"
   ]
  },
  {
   "cell_type": "markdown",
   "metadata": {},
   "source": [
    "# Import"
   ]
  },
  {
   "cell_type": "code",
   "execution_count": 3,
   "metadata": {},
   "outputs": [],
   "source": [
    "#timeline information\n",
    "search_being = pd.read_csv('Resources/multiTimeline(BeingADIK).csv')\n",
    "search_twoworld = pd.read_csv('Resources/multiTimeline(Two World II).csv')\n",
    "search_vampires = pd.read_csv('Resources/multiTimeline(Vampires).csv')\n",
    "search_vtol = pd.read_csv('Resources/multiTimeline(VTOL VR).csv')\n",
    "\n",
    "#geomap information\n",
    "geo_being = pd.read_csv('Resources/geoMap(BeingADIK).csv')\n",
    "geo_twoworld = pd.read_csv('Resources/geoMap(Two World II).csv')\n",
    "geo_vampires = pd.read_csv('Resources/geoMap(Vampires).csv')\n",
    "geo_vtol = pd.read_csv('Resources/geoMap(VTOL VR).csv')"
   ]
  },
  {
   "cell_type": "markdown",
   "metadata": {},
   "source": [
    "# Clean"
   ]
  },
  {
   "cell_type": "code",
   "execution_count": 5,
   "metadata": {},
   "outputs": [
    {
     "data": {
      "text/html": [
       "<div>\n",
       "<style scoped>\n",
       "    .dataframe tbody tr th:only-of-type {\n",
       "        vertical-align: middle;\n",
       "    }\n",
       "\n",
       "    .dataframe tbody tr th {\n",
       "        vertical-align: top;\n",
       "    }\n",
       "\n",
       "    .dataframe thead th {\n",
       "        text-align: right;\n",
       "    }\n",
       "</style>\n",
       "<table border=\"1\" class=\"dataframe\">\n",
       "  <thead>\n",
       "    <tr style=\"text-align: right;\">\n",
       "      <th></th>\n",
       "      <th>Week</th>\n",
       "      <th>Being a DIK</th>\n",
       "      <th>Two Worlds II</th>\n",
       "      <th>Vampires</th>\n",
       "      <th>VTOL VR</th>\n",
       "    </tr>\n",
       "  </thead>\n",
       "  <tbody>\n",
       "    <tr>\n",
       "      <th>0</th>\n",
       "      <td>1/10/2021</td>\n",
       "      <td>13</td>\n",
       "      <td>80</td>\n",
       "      <td>71</td>\n",
       "      <td>16</td>\n",
       "    </tr>\n",
       "    <tr>\n",
       "      <th>1</th>\n",
       "      <td>1/17/2021</td>\n",
       "      <td>77</td>\n",
       "      <td>25</td>\n",
       "      <td>74</td>\n",
       "      <td>16</td>\n",
       "    </tr>\n",
       "    <tr>\n",
       "      <th>2</th>\n",
       "      <td>1/24/2021</td>\n",
       "      <td>26</td>\n",
       "      <td>45</td>\n",
       "      <td>93</td>\n",
       "      <td>0</td>\n",
       "    </tr>\n",
       "    <tr>\n",
       "      <th>3</th>\n",
       "      <td>1/31/2021</td>\n",
       "      <td>32</td>\n",
       "      <td>100</td>\n",
       "      <td>83</td>\n",
       "      <td>48</td>\n",
       "    </tr>\n",
       "    <tr>\n",
       "      <th>4</th>\n",
       "      <td>2/7/2021</td>\n",
       "      <td>26</td>\n",
       "      <td>50</td>\n",
       "      <td>77</td>\n",
       "      <td>32</td>\n",
       "    </tr>\n",
       "  </tbody>\n",
       "</table>\n",
       "</div>"
      ],
      "text/plain": [
       "        Week  Being a DIK  Two Worlds II  Vampires  VTOL VR\n",
       "0  1/10/2021           13             80        71       16\n",
       "1  1/17/2021           77             25        74       16\n",
       "2  1/24/2021           26             45        93        0\n",
       "3  1/31/2021           32            100        83       48\n",
       "4   2/7/2021           26             50        77       32"
      ]
     },
     "execution_count": 5,
     "metadata": {},
     "output_type": "execute_result"
    }
   ],
   "source": [
    "search_ls = [search_being, search_twoworld, search_vampires, search_vtol]\n",
    "merged_search = search_ls[0].merge(search_ls[1], on = 'Week', how = 'outer')\n",
    "for i in range(2, len(search_ls)):\n",
    "    merged_search = merged_search.merge(search_ls[i], on = 'Week', how = 'outer')\n",
    "merged_search.rename(columns = {merged_search.columns[1] : 'Being a DIK',\n",
    "                                merged_search.columns[2] : 'Two Worlds II',\n",
    "                                merged_search.columns[3] : 'Vampires',\n",
    "                                merged_search.columns[4] : 'VTOL VR',\n",
    "}, inplace = True)\n",
    "merged_search.head()"
   ]
  },
  {
   "cell_type": "code",
   "execution_count": 7,
   "metadata": {},
   "outputs": [
    {
     "data": {
      "text/html": [
       "<div>\n",
       "<style scoped>\n",
       "    .dataframe tbody tr th:only-of-type {\n",
       "        vertical-align: middle;\n",
       "    }\n",
       "\n",
       "    .dataframe tbody tr th {\n",
       "        vertical-align: top;\n",
       "    }\n",
       "\n",
       "    .dataframe thead th {\n",
       "        text-align: right;\n",
       "    }\n",
       "</style>\n",
       "<table border=\"1\" class=\"dataframe\">\n",
       "  <thead>\n",
       "    <tr style=\"text-align: right;\">\n",
       "      <th></th>\n",
       "      <th>Region</th>\n",
       "      <th>Being a DIK</th>\n",
       "      <th>Two Worlds II</th>\n",
       "      <th>Vampires</th>\n",
       "      <th>VTOL VR</th>\n",
       "    </tr>\n",
       "  </thead>\n",
       "  <tbody>\n",
       "    <tr>\n",
       "      <th>0</th>\n",
       "      <td>Washington</td>\n",
       "      <td>100.0</td>\n",
       "      <td>NaN</td>\n",
       "      <td>76</td>\n",
       "      <td>100.0</td>\n",
       "    </tr>\n",
       "    <tr>\n",
       "      <th>1</th>\n",
       "      <td>Arizona</td>\n",
       "      <td>96.0</td>\n",
       "      <td>NaN</td>\n",
       "      <td>78</td>\n",
       "      <td>37.0</td>\n",
       "    </tr>\n",
       "    <tr>\n",
       "      <th>2</th>\n",
       "      <td>Massachusetts</td>\n",
       "      <td>91.0</td>\n",
       "      <td>NaN</td>\n",
       "      <td>64</td>\n",
       "      <td>NaN</td>\n",
       "    </tr>\n",
       "    <tr>\n",
       "      <th>3</th>\n",
       "      <td>Illinois</td>\n",
       "      <td>80.0</td>\n",
       "      <td>NaN</td>\n",
       "      <td>70</td>\n",
       "      <td>19.0</td>\n",
       "    </tr>\n",
       "    <tr>\n",
       "      <th>4</th>\n",
       "      <td>South Carolina</td>\n",
       "      <td>77.0</td>\n",
       "      <td>NaN</td>\n",
       "      <td>71</td>\n",
       "      <td>NaN</td>\n",
       "    </tr>\n",
       "  </tbody>\n",
       "</table>\n",
       "</div>"
      ],
      "text/plain": [
       "           Region  Being a DIK  Two Worlds II  Vampires  VTOL VR\n",
       "0      Washington        100.0            NaN        76    100.0\n",
       "1         Arizona         96.0            NaN        78     37.0\n",
       "2   Massachusetts         91.0            NaN        64      NaN\n",
       "3        Illinois         80.0            NaN        70     19.0\n",
       "4  South Carolina         77.0            NaN        71      NaN"
      ]
     },
     "execution_count": 7,
     "metadata": {},
     "output_type": "execute_result"
    }
   ],
   "source": [
    "geo_ls = [geo_being, geo_twoworld, geo_vampires, geo_vtol]\n",
    "merged_geo = geo_ls[0].merge(geo_ls[1], on = 'Region', how = 'outer')\n",
    "for i in range(2, len(geo_ls)):\n",
    "    merged_geo = merged_geo.merge(geo_ls[i], on = 'Region', how = 'outer')\n",
    "merged_geo.rename(columns = {merged_geo.columns[1] : 'Being a DIK',\n",
    "                             merged_geo.columns[2] : 'Two Worlds II',\n",
    "                             merged_geo.columns[3] : 'Vampires',\n",
    "                             merged_geo.columns[4] : 'VTOL VR',\n",
    "}, inplace = True)\n",
    "merged_geo.head()"
   ]
  },
  {
   "cell_type": "markdown",
   "metadata": {},
   "source": [
    "# Export to MongoDB"
   ]
  },
  {
   "cell_type": "code",
   "execution_count": null,
   "metadata": {},
   "outputs": [],
   "source": [
    "# connecting to mongodb\n",
    "conn = 'mongodb://localhost:27017'\n",
    "client = pymongo.MongoClient(conn)\n",
    "\n",
    "# Declare the database\n",
    "db = client.googletrends_db\n",
    "\n",
    "# Declare the collection\n",
    "fruits = db.multiline\n",
    "fruits = db.geo"
   ]
  },
  {
   "cell_type": "code",
   "execution_count": null,
   "metadata": {},
   "outputs": [],
   "source": []
  }
 ],
 "metadata": {
  "interpreter": {
   "hash": "ea2b65024e24df10fa5992686c1c8510a4831519011fa6b2d6f1788e8385f578"
  },
  "kernelspec": {
   "display_name": "Python 3.8.12 64-bit ('PythonData': conda)",
   "language": "python",
   "name": "python3"
  },
  "language_info": {
   "codemirror_mode": {
    "name": "ipython",
    "version": 3
   },
   "file_extension": ".py",
   "mimetype": "text/x-python",
   "name": "python",
   "nbconvert_exporter": "python",
   "pygments_lexer": "ipython3",
   "version": "3.8.12"
  },
  "orig_nbformat": 4
 },
 "nbformat": 4,
 "nbformat_minor": 2
}
