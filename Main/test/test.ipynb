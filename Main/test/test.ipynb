{
 "cells": [
  {
   "cell_type": "markdown",
   "metadata": {},
   "source": [
    "For testing incremental python code"
   ]
  },
  {
   "cell_type": "code",
   "execution_count": 1,
   "metadata": {},
   "outputs": [],
   "source": [
    "#------------------------\n",
    "# DEPENDENCIES + SETUP\n",
    "#------------------------\n",
    "\n",
    "# dependencies\n",
    "from flask import Flask, render_template\n",
    "import pymongo as pym\n",
    "\n",
    "# setup mongo connection\n",
    "conn = 'mongodb://localhost:27017'\n",
    "client = pym.MongoClient(conn)\n",
    "\n",
    "# setup mongo variables\n",
    "db = client.trending_games_db\n",
    "\n",
    "# setup Flask app\n",
    "app = Flask(__name__)\n",
    "\n",
    "#------------------------\n",
    "# DATA IMPORT\n",
    "#------------------------\n",
    "# create list of all the collection names\n",
    "collection_names = db.list_collection_names()\n",
    "\n",
    "# dump all collections' data into one mega list\n",
    "# big_data = [list(db[i].find()) for i in collection_names]\n",
    "\n",
    "# create individual variables for each collection\n",
    "steam_data = list(db['steam_charts'].find())\n",
    "twitch_data = list(db['twitch'].find())\n",
    "gline_data = list(db['gtrends_multiline'].find())\n",
    "ggeo_data =  list(db['gtrends_geo'].find())\n",
    "yahoo_data = list(db['y_finance'].find())"
   ]
  },
  {
   "cell_type": "code",
   "execution_count": 5,
   "metadata": {},
   "outputs": [
    {
     "data": {
      "text/plain": [
       "{'_id': ObjectId('61e2ff524e1b16fb70170025'),\n",
       " 'Month': '2004-01',\n",
       " 'Apex': 0,\n",
       " 'CSGO': 58,\n",
       " 'Dota 2': 0,\n",
       " 'GTA V': 1,\n",
       " 'Rust': 23}"
      ]
     },
     "execution_count": 5,
     "metadata": {},
     "output_type": "execute_result"
    }
   ],
   "source": [
    "gline_data[0]"
   ]
  },
  {
   "cell_type": "code",
   "execution_count": null,
   "metadata": {},
   "outputs": [],
   "source": []
  }
 ],
 "metadata": {
  "interpreter": {
   "hash": "ea2b65024e24df10fa5992686c1c8510a4831519011fa6b2d6f1788e8385f578"
  },
  "kernelspec": {
   "display_name": "Python 3.8.12 64-bit ('PythonData': conda)",
   "language": "python",
   "name": "python3"
  },
  "language_info": {
   "codemirror_mode": {
    "name": "ipython",
    "version": 3
   },
   "file_extension": ".py",
   "mimetype": "text/x-python",
   "name": "python",
   "nbconvert_exporter": "python",
   "pygments_lexer": "ipython3",
   "version": "3.8.12"
  },
  "orig_nbformat": 4
 },
 "nbformat": 4,
 "nbformat_minor": 2
}
